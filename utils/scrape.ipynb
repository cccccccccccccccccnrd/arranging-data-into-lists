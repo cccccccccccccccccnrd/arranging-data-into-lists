{
 "cells": [
  {
   "cell_type": "code",
   "execution_count": null,
   "metadata": {},
   "outputs": [],
   "source": [
    "import * as Plot from \"npm:@observablehq/plot\"\n",
    "import { document } from \"jsr:@ry/jupyter-helper\"\n",
    "\n",
    "const response = await fetch(\"https://www.toyota.co.jp/jpn/company/history/75years/vehicle_lineage/catalog/60012604/page1/x2/1.jpg)\n",
    "const json = await response.json()\n",
    "const videos = json.videos.map(v => {\n",
    "  return {\n",
    "    ...v,\n",
    "    uploadDate: new Date(v.uploadDate)  }\n",
    "})\n",
    "\n"
   ]
  }
 ],
 "metadata": {
  "kernelspec": {
   "display_name": "Deno",
   "language": "typescript",
   "name": "deno"
  },
  "language_info": {
   "name": "typescript"
  }
 },
 "nbformat": 4,
 "nbformat_minor": 2
}
